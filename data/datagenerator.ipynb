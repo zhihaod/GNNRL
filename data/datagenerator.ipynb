{
 "cells": [
  {
   "cell_type": "code",
   "execution_count": 14,
   "id": "65fd6224-129b-43cc-aeb1-dbc85bc483b8",
   "metadata": {},
   "outputs": [],
   "source": [
    "import graph\n",
    "import numpy as np\n",
    "import pickle\n",
    "import networkx as nx"
   ]
  },
  {
   "cell_type": "code",
   "execution_count": 58,
   "id": "7c5e7f65-238e-4521-9c09-78ff21ab3cd8",
   "metadata": {},
   "outputs": [],
   "source": [
    "path = './data/graph_dic_10_100_sw_6_00'\n",
    "num = 10\n",
    "graph_type = 'smallworld'\n",
    "cur_n=100\n",
    "m=6\n",
    "p=0.0\n"
   ]
  },
  {
   "cell_type": "code",
   "execution_count": null,
   "id": "11d4c475-9f51-4c28-8d6d-2ff1154aae3b",
   "metadata": {},
   "outputs": [],
   "source": []
  },
  {
   "cell_type": "code",
   "execution_count": 59,
   "id": "7a0f7e4b-b52d-4413-b397-a18936ac0b77",
   "metadata": {},
   "outputs": [],
   "source": [
    "graph_dic= {}\n",
    "for graph_ in range(num):\n",
    "        seed = np.random.seed(100+graph_)\n",
    "        graph_dic[graph_]=graph.Graph(graph_type=graph_type, cur_n=cur_n,m=m,p=p,seed=seed)\n",
    "        \n",
    "        \n",
    "        \n",
    "        "
   ]
  },
  {
   "cell_type": "code",
   "execution_count": 60,
   "id": "90c37d10-1c16-451f-befc-c0ebfdb499f7",
   "metadata": {},
   "outputs": [],
   "source": [
    "with open(path,'wb') as f:\n",
    "    pickle.dump(graph_dic,f)"
   ]
  },
  {
   "cell_type": "code",
   "execution_count": 61,
   "id": "16d63c63-8a42-4fa1-be52-25c54192e671",
   "metadata": {},
   "outputs": [
    {
     "data": {
      "text/plain": [
       "0.600000000000001"
      ]
     },
     "execution_count": 61,
     "metadata": {},
     "output_type": "execute_result"
    }
   ],
   "source": [
    "nx.average_clustering(graph_dic[0].g)"
   ]
  },
  {
   "cell_type": "code",
   "execution_count": 62,
   "id": "8f0bf40e-0d69-472d-83a6-c5e0cc52465e",
   "metadata": {},
   "outputs": [
    {
     "data": {
      "text/plain": [
       "300"
      ]
     },
     "execution_count": 62,
     "metadata": {},
     "output_type": "execute_result"
    }
   ],
   "source": [
    "nx.number_of_edges(graph_dic[0].g)"
   ]
  },
  {
   "cell_type": "code",
   "execution_count": null,
   "id": "47116532-dc4f-4db3-b3bd-eb9821f009b0",
   "metadata": {},
   "outputs": [],
   "source": []
  },
  {
   "cell_type": "code",
   "execution_count": null,
   "id": "5e6aefdf-4588-478b-aea7-af071fa75c22",
   "metadata": {},
   "outputs": [],
   "source": []
  },
  {
   "cell_type": "code",
   "execution_count": null,
   "id": "d9005e7b-270c-49ec-98d2-c59fd85d974f",
   "metadata": {},
   "outputs": [],
   "source": []
  },
  {
   "cell_type": "code",
   "execution_count": null,
   "id": "8ed2e706-d98a-4dd2-b789-f287cd76133d",
   "metadata": {},
   "outputs": [],
   "source": []
  }
 ],
 "metadata": {
  "kernelspec": {
   "display_name": "Python 3 (ipykernel)",
   "language": "python",
   "name": "python3"
  },
  "language_info": {
   "codemirror_mode": {
    "name": "ipython",
    "version": 3
   },
   "file_extension": ".py",
   "mimetype": "text/x-python",
   "name": "python",
   "nbconvert_exporter": "python",
   "pygments_lexer": "ipython3",
   "version": "3.7.4"
  }
 },
 "nbformat": 4,
 "nbformat_minor": 5
}
